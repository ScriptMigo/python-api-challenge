{
 "cells": [
  {
   "cell_type": "markdown",
   "execution_count": null,
   "metadata": {},
   "outputs": [],
   "source": [
    "# WeatherPy\n",
    "----\n",
    "\n",
    "#### Note\n",
    "* Instructions have been included for each segment. You do not have to follow them exactly, but they are included to help you think through the steps."
   ]
  },
  {
   "cell_type": "code",
   "execution_count": null,
   "metadata": {},
   "outputs": [],
   "source": [
    "# Dependencies and Setup\n",
    "import matplotlib.pyplot as plt\n",
    "import pandas as pd\n",
    "import numpy as np\n",
    "import requests\n",
    "import time\n",
    "import json\n",
    "from scipy.stats import linregress\n",
    "\n",
    "# Import API key\n",
    "from api_keys import weather_api_key\n",
    "\n",
    "# Incorporated citipy to determine city based on latitude and longitude\n",
    "from citipy import citipy\n",
    "\n",
    "# Output File (CSV)\n",
    "output_data_file = \"output_data/cities.csv\"\n",
    "\n",
    "# Range of latitudes and longitudes\n",
    "lat_range = (-90, 90)\n",
    "lng_range = (-180, 180)"
   ]
  },
  {
   "cell_type": "markdown",
   "execution_count": null,
   "metadata": {},
   "outputs": [],
   "source": [
    "## Generate Cities List"
   ]
  },
  {
   "cell_type": "code",
   "execution_count": null,
   "metadata": {},
   "outputs": [],
   "source": [
    "# List for holding lat_lngs and cities\n",
    "lat_lngs = []\n",
    "cities = []\n",
    "\n",
    "# Create a set of random lat and lng combinations\n",
    "lats = np.random.uniform(low=-90.000, high=90.000, size=1500)\n",
    "lngs = np.random.uniform(low=-180.000, high=180.000, size=1500)\n",
    "lat_lngs = zip(lats, lngs)\n",
    "\n",
    "# Identify nearest city for each lat, lng combination\n",
    "for lat_lng in lat_lngs:\n",
    "    city = citipy.nearest_city(lat_lng[0], lat_lng[1]).city_name\n",
    "        \n",
    "    # If the city is unique, then add it to a our cities list\n",
    "    if city not in cities:\n",
    "        cities.append(city)\n",
    "\n",
    "# Print the city count to confirm sufficient count\n",
    "len(cities)"
   ]
  },
  {
   "cell_type": "markdown",
   "execution_count": null,
   "metadata": {},
   "outputs": [],
   "source": [
    "### Perform API Calls\n",
    "* Perform a weather check on each city using a series of successive API calls.\n",
    "* Include a print log of each city as it'sbeing processed (with the city number and city name).\n"
   ]
  },
  {
   "cell_type": "code",
   "execution_count": null,
   "metadata": {},
   "outputs": [],
   "source": [
    "# Loop cities dataframe, pulling API data for each iteration\n",
    "cities = pd.DataFrame(cities)\n",
    "weatherResults = {\n",
    "    'City' : [],\t\n",
    "    'Cloudiness' : [],\t\n",
    "    'Country' : [],\n",
    "    'Data' : [],\n",
    "    'Humidity' : [],\t\n",
    "    'Lat' : [],\n",
    "    'Lng' : [],\n",
    "    'Max Temp' : [],\n",
    "    'Wind Speed' : []\n",
    "}\n",
    "\n",
    "url = \"http://api.openweathermap.org/data/2.5/weather\"\n",
    "\n",
    "print(\"Beginning Data Retrieval\")\n",
    "print(\"-----------------------------\")\n",
    "\n",
    "for city in cities.iterrows(): \n",
    "    params = {\n",
    "        \"q\": city[1][0],\n",
    "        \"appid\": weather_api_key,\n",
    "        \"units\": 'imperial',\n",
    "    }\n",
    "\n",
    "    try:\n",
    "        results = requests.get(url, params=params).json()\n",
    "    except:\n",
    "        continue\n",
    "    \n",
    "    print(f\"Processing Record {city} of Set 1 | {city}\")\n",
    "    \n",
    "    try:\n",
    "        weatherResults['City'].append(results['name'])\n",
    "        weatherResults['Cloudiness'].append(results['clouds']['all'])\n",
    "        weatherResults['Country'].append(results['sys']['country'])\n",
    "        weatherResults['Date'].append(results['dt'])\n",
    "        weatherResults['Humidity'].append(results['main']['humidity'])\n",
    "        weatherResults['Lat'].append(results['coord']['lat'])\n",
    "        weatherResults['Lng'].append(results['coord']['lon'])\n",
    "        weatherResults['Max Temp'].append(results['main']['temp_max'])\n",
    "        weatherResults['Wind Speed'].append(results['wind']['speed'])\n",
    "    except KeyError:\n",
    "        print(f\"city: {city} wasn't found\")\n",
    "        \n",
    "\n",
    "    \n",
    "#     weatherResults.append(results)\n",
    "    time.sleep(.5)\n",
    "\n",
    "# weatherData = pd.read_csv('C:/temp/weather_data.csv')\n"
   ]
  },
  {
   "cell_type": "code",
   "execution_count": null,
   "metadata": {},
   "outputs": [],
   "source": [
    "weatherData"
   ]
  },
  {
   "cell_type": "markdown",
   "execution_count": null,
   "metadata": {},
   "outputs": [],
   "source": [
    "### Convert Raw Data to DataFrame\n",
    "* Export the city data into a .csv.\n",
    "\n",
    "* Display the DataFrame"
   ]
  },
  {
   "cell_type": "code",
   "execution_count": null,
   "metadata": {},
   "outputs": [],
   "source": [
    "# Covert to dataframe\n",
    "weatherResultsDF = pd.DataFrame(weatherData)\n",
    "# Export to CSV\n",
    "# weatherResultsDF.to_csv('C:/temp/weatherData.csv')\n",
    "# Clean data of any rows with nulls\n",
    "weatherResultsDF = weatherResultsDF.dropna(how=\"all\")\n",
    "# Display cleaned data\n",
    "weatherResultsDF.head()"
   ]
  },
  {
   "cell_type": "markdown",
   "execution_count": null,
   "metadata": {},
   "outputs": [],
   "source": [
    "### Plotting the Data\n",
    "* Use proper labeling of the plots using plot titles (including date of analysis) and axes labels.\n",
    "* Save the plotted figures as .pngs."
   ]
  },
  {
   "cell_type": "markdown",
   "execution_count": null,
   "metadata": {},
   "outputs": [],
   "source": [
    "#### Latitude vs. Temperature Plot"
   ]
  },
  {
   "cell_type": "code",
   "execution_count": null,
   "metadata": {},
   "outputs": [],
   "source": [
    "\n",
    "y = weatherResultsDF['Lat']\n",
    "x = weatherResultsDF['Max Temp']\n",
    "# Build and show chart\n",
    "plt.scatter(x, y, marker=\"o\")\n",
    "plt.title('Temp vs Lat')\n",
    "plt.xlabel('Temp')\n",
    "plt.ylabel('Lat')\n",
    "plt.show()\n",
    "\n",
    "\n"
   ]
  },
  {
   "cell_type": "markdown",
   "execution_count": null,
   "metadata": {},
   "outputs": [],
   "source": [
    "#### Latitude vs. Humidity Plot"
   ]
  },
  {
   "cell_type": "code",
   "execution_count": null,
   "metadata": {},
   "outputs": [],
   "source": [
    "x = weatherResultsDF['Humidity']\n",
    "y = weatherResultsDF['Lat']  \n",
    "\n",
    "# Build and show chart   \n",
    "plt.scatter(x, y, marker=\"o\")\n",
    "plt.title('Humidity vs Lat')\n",
    "plt.xlabel('Humidity')\n",
    "plt.ylabel('Lat')\n",
    "plt.show()"
   ]
  },
  {
   "cell_type": "markdown",
   "execution_count": null,
   "metadata": {},
   "outputs": [],
   "source": [
    "#### Latitude vs. Cloudiness Plot"
   ]
  },
  {
   "cell_type": "code",
   "execution_count": null,
   "metadata": {},
   "outputs": [],
   "source": [
    "\n",
    "x = weatherResultsDF['Cloudiness']\n",
    "y = weatherResultsDF['Lat']  \n",
    "\n",
    "# Build and show chart\n",
    "plt.scatter(x, y, marker=\"o\")\n",
    "plt.title('Clouds vs Lat')\n",
    "plt.xlabel('Clouds')\n",
    "plt.ylabel('Lat')\n",
    "plt.show()"
   ]
  },
  {
   "cell_type": "markdown",
   "execution_count": null,
   "metadata": {},
   "outputs": [],
   "source": [
    "#### Latitude vs. Wind Speed Plot"
   ]
  },
  {
   "cell_type": "code",
   "execution_count": null,
   "metadata": {},
   "outputs": [],
   "source": [
    "\n",
    "x = weatherResultsDF['Wind Speed']\n",
    "y = weatherResultsDF['Lat']\n",
    "\n",
    "# Build and show chart\n",
    "plt.scatter(x, y, marker=\"o\")\n",
    "plt.title('Windspeed vs Lat')\n",
    "plt.xlabel('Windspeed')\n",
    "plt.ylabel('Lat')\n",
    "plt.show()"
   ]
  },
  {
   "cell_type": "code",
   "execution_count": null,
   "metadata": {},
   "outputs": [],
   "source": [
    "\n"
   ]
  },
  {
   "cell_type": "markdown",
   "execution_count": null,
   "metadata": {},
   "outputs": [],
   "source": [
    "## Linear Regression"
   ]
  },
  {
   "cell_type": "code",
   "execution_count": null,
   "metadata": {},
   "outputs": [],
   "source": [
    "# OPTIONAL: Create a function to create Linear Regression plots\n"
   ]
  },
  {
   "cell_type": "code",
   "execution_count": null,
   "metadata": {},
   "outputs": [],
   "source": [
    "# Create Northern and Southern Hemisphere DataFrames\n",
    "\n",
    "nHem = weatherResultsDF[weatherResultsDF['Lat'] >= 0]\n",
    "sHem = weatherResultsDF[weatherResultsDF['Lat'] < 0]"
   ]
  },
  {
   "cell_type": "code",
   "execution_count": null,
   "metadata": {},
   "outputs": [],
   "source": [
    "\n"
   ]
  },
  {
   "cell_type": "markdown",
   "execution_count": null,
   "metadata": {},
   "outputs": [],
   "source": [
    "####  Northern Hemisphere - Max Temp vs. Latitude Linear Regression"
   ]
  },
  {
   "cell_type": "code",
   "execution_count": null,
   "metadata": {},
   "outputs": [],
   "source": [
    "# Build and show chart\n",
    "x = nHem['Max Temp']\n",
    "y = nHem['Lat']  \n",
    "(slope, intercept, rvalue, pvalue, stderr) = linregress(x, y)\n",
    "regress_values = x * slope + intercept\n",
    "line_eq = \"y = \" + str(round(slope,2)) + \"x + \" + str(round(intercept,2))\n",
    "plt.scatter(x, y, marker=\"o\")\n",
    "plt.plot(x,regress_values,\"r-\")\n",
    "plt.annotate(line_eq,(-10,0),fontsize=15,color=\"red\")\n",
    "plt.title('Temp vs Lat')\n",
    "plt.xlabel('Temp')\n",
    "plt.ylabel('Lat')\n",
    "plt.show()"
   ]
  },
  {
   "cell_type": "markdown",
   "execution_count": null,
   "metadata": {},
   "outputs": [],
   "source": [
    "####  Southern Hemisphere - Max Temp vs. Latitude Linear Regression"
   ]
  },
  {
   "cell_type": "code",
   "execution_count": null,
   "metadata": {},
   "outputs": [],
   "source": [
    "# Build and show chart\n",
    "y = sHem['Max Temp']\n",
    "x = sHem['Lat']  \n",
    "(slope, intercept, rvalue, pvalue, stderr) = linregress(x, y)\n",
    "regress_values = x * slope + intercept\n",
    "line_eq = \"y = \" + str(round(slope,2)) + \"x + \" + str(round(intercept,2))\n",
    "plt.scatter(x, y, marker=\"o\")\n",
    "plt.plot(x,regress_values,\"r-\")\n",
    "plt.annotate(line_eq,(-40,40),fontsize=15,color=\"red\")\n",
    "plt.title('Temp vs Lat')\n",
    "plt.xlabel('Temp')\n",
    "plt.ylabel('Lat')\n",
    "plt.show()"
   ]
  },
  {
   "cell_type": "markdown",
   "execution_count": null,
   "metadata": {},
   "outputs": [],
   "source": [
    "####  Northern Hemisphere - Humidity (%) vs. Latitude Linear Regression"
   ]
  },
  {
   "cell_type": "code",
   "execution_count": null,
   "metadata": {},
   "outputs": [],
   "source": [
    "# Build and show chart\n",
    "y = nHem['Humidity']\n",
    "x = nHem['Lat']  \n",
    "(slope, intercept, rvalue, pvalue, stderr) = linregress(x, y)\n",
    "regress_values = x * slope + intercept\n",
    "line_eq = \"y = \" + str(round(slope,2)) + \"x + \" + str(round(intercept,2))\n",
    "plt.scatter(x, y, marker=\"o\")\n",
    "plt.plot(x,regress_values,\"r-\")\n",
    "plt.annotate(line_eq,(45,10),fontsize=15,color=\"red\")\n",
    "plt.title('Humidity vs Lat')\n",
    "plt.xlabel('Humidity')\n",
    "plt.ylabel('Lat')\n",
    "plt.show()"
   ]
  },
  {
   "cell_type": "markdown",
   "execution_count": null,
   "metadata": {},
   "outputs": [],
   "source": [
    "####  Southern Hemisphere - Humidity (%) vs. Latitude Linear Regression"
   ]
  },
  {
   "cell_type": "code",
   "execution_count": null,
   "metadata": {},
   "outputs": [],
   "source": [
    "# Build and show chart\n",
    "y = sHem['Humidity']\n",
    "x = sHem['Lat']  \n",
    "(slope, intercept, rvalue, pvalue, stderr) = linregress(x, y)\n",
    "regress_values = x * slope + intercept\n",
    "line_eq = \"y = \" + str(round(slope,2)) + \"x + \" + str(round(intercept,2))\n",
    "plt.scatter(x, y, marker=\"o\")\n",
    "plt.plot(x,regress_values,\"r-\")\n",
    "plt.annotate(line_eq,(-55,97),fontsize=15,color=\"red\")\n",
    "plt.title('Humidity vs Lat')\n",
    "plt.xlabel('Humidity')\n",
    "plt.ylabel('Lat')\n",
    "plt.show()"
   ]
  },
  {
   "cell_type": "markdown",
   "execution_count": null,
   "metadata": {},
   "outputs": [],
   "source": [
    "####  Northern Hemisphere - Cloudiness (%) vs. Latitude Linear Regression"
   ]
  },
  {
   "cell_type": "code",
   "execution_count": null,
   "metadata": {},
   "outputs": [],
   "source": [
    "# Build and show chart\n",
    "y = nHem['Cloudiness']\n",
    "x = nHem['Lat']  \n",
    "(slope, intercept, rvalue, pvalue, stderr) = linregress(x, y)\n",
    "regress_values = x * slope + intercept\n",
    "line_eq = \"y = \" + str(round(slope,2)) + \"x + \" + str(round(intercept,2))\n",
    "plt.scatter(x, y, marker=\"o\")\n",
    "plt.plot(x,regress_values,\"r-\")\n",
    "plt.annotate(line_eq,(45,10),fontsize=15,color=\"red\")\n",
    "plt.title('Cloudiness vs Lat')\n",
    "plt.xlabel('Cloudiness')\n",
    "plt.ylabel('Lat')\n",
    "plt.show()\n"
   ]
  },
  {
   "cell_type": "markdown",
   "execution_count": null,
   "metadata": {},
   "outputs": [],
   "source": [
    "####  Southern Hemisphere - Cloudiness (%) vs. Latitude Linear Regression"
   ]
  },
  {
   "cell_type": "code",
   "execution_count": null,
   "metadata": {},
   "outputs": [],
   "source": [
    "# Build and show chart\n",
    "y = sHem['Cloudiness']\n",
    "x = sHem['Lat']  \n",
    "(slope, intercept, rvalue, pvalue, stderr) = linregress(x, y)\n",
    "regress_values = x * slope + intercept\n",
    "line_eq = \"y = \" + str(round(slope,2)) + \"x + \" + str(round(intercept,2))\n",
    "plt.scatter(x, y, marker=\"o\")\n",
    "plt.plot(x,regress_values,\"r-\")\n",
    "plt.annotate(line_eq,(-55,95),fontsize=15,color=\"red\")\n",
    "plt.title('Cloudiness vs Lat')\n",
    "plt.xlabel('Cloudiness')\n",
    "plt.ylabel('Lat')\n",
    "plt.show()"
   ]
  },
  {
   "cell_type": "markdown",
   "execution_count": null,
   "metadata": {},
   "outputs": [],
   "source": [
    "####  Northern Hemisphere - Wind Speed (mph) vs. Latitude Linear Regression"
   ]
  },
  {
   "cell_type": "code",
   "execution_count": null,
   "metadata": {},
   "outputs": [],
   "source": [
    "# Build and show chart\n",
    "y = nHem['Wind Speed']\n",
    "x = nHem['Lat']  \n",
    "(slope, intercept, rvalue, pvalue, stderr) = linregress(x, y)\n",
    "regress_values = x * slope + intercept\n",
    "line_eq = \"y = \" + str(round(slope,2)) + \"x + \" + str(round(intercept,2))\n",
    "plt.scatter(x, y, marker=\"o\")\n",
    "plt.plot(x,regress_values,\"r-\")\n",
    "plt.annotate(line_eq,(25,12),fontsize=15,color=\"red\")\n",
    "plt.title('Wind Speed vs Lat')\n",
    "plt.xlabel('Wind Speed')\n",
    "plt.ylabel('Lat')\n",
    "plt.show()"
   ]
  },
  {
   "cell_type": "markdown",
   "execution_count": null,
   "metadata": {},
   "outputs": [],
   "source": [
    "####  Southern Hemisphere - Wind Speed (mph) vs. Latitude Linear Regression"
   ]
  },
  {
   "cell_type": "code",
   "execution_count": null,
   "metadata": {},
   "outputs": [],
   "source": [
    "# Build and show chart\n",
    "y = sHem['Wind Speed']\n",
    "x = sHem['Lat']  \n",
    "(slope, intercept, rvalue, pvalue, stderr) = linregress(x, y)\n",
    "regress_values = x * slope + intercept\n",
    "line_eq = \"y = \" + str(round(slope,2)) + \"x + \" + str(round(intercept,2))\n",
    "plt.scatter(x, y, marker=\"o\")\n",
    "plt.plot(x,regress_values,\"r-\")\n",
    "plt.annotate(line_eq,(-55,17.5),fontsize=15,color=\"red\")\n",
    "plt.title('Wind Speed vs Lat')\n",
    "plt.xlabel('Wind Speed')\n",
    "plt.ylabel('Lat')\n",
    "plt.show()"
   ]
  }
 ],
 "metadata": {
  "anaconda-cloud": {},
  "kernel_info": {
   "name": "python3"
  },
  "kernelspec": {
   "display_name": "Python 3",
   "language": "python",
   "name": "python3"
  },
  "language_info": {
   "codemirror_mode": {
    "name": "ipython",
    "version": 3
   },
   "file_extension": ".py",
   "mimetype": "text/x-python",
   "name": "python",
   "nbconvert_exporter": "python",
   "pygments_lexer": "ipython3",
   "version": "3.7.4-final"
  },
  "latex_envs": {
   "LaTeX_envs_menu_present": true,
   "autoclose": false,
   "autocomplete": true,
   "bibliofile": "biblio.bib",
   "cite_by": "apalike",
   "current_citInitial": 1,
   "eqLabelWithNumbers": true,
   "eqNumInitial": 1,
   "hotkeys": {
    "equation": "Ctrl-E",
    "itemize": "Ctrl-I"
   },
   "labels_anchors": false,
   "latex_user_defs": false,
   "report_style_numbering": false,
   "user_envs_cfg": false
  },
  "nteract": {
   "version": "0.12.3"
  }
 },
 "nbformat": 4,
 "nbformat_minor": 2
}