{
 "cells": [
  {
   "cell_type": "markdown",
   "metadata": {},
   "source": [
    "# VacationPy\n",
    "----\n",
    "\n",
    "#### Note\n",
    "* Instructions have been included for each segment. You do not have to follow them exactly, but they are included to help you think through the steps."
   ]
  },
  {
   "cell_type": "code",
   "execution_count": 2,
   "metadata": {},
   "outputs": [],
   "source": [
    "# Dependencies and Setup\n",
    "import matplotlib.pyplot as plt\n",
    "import pandas as pd\n",
    "import numpy as np\n",
    "import requests\n",
    "import gmaps\n",
    "import os\n",
    "\n",
    "# Import API key\n",
    "from api_keys import g_key\n"
   ]
  },
  {
   "cell_type": "markdown",
   "metadata": {},
   "source": [
    "### Store Part I results into DataFrame\n",
    "* Load the csv exported in Part I to a DataFrame"
   ]
  },
  {
   "cell_type": "code",
   "execution_count": 3,
   "metadata": {},
   "outputs": [
    {
     "data": {
      "text/html": "<div>\n<style scoped>\n    .dataframe tbody tr th:only-of-type {\n        vertical-align: middle;\n    }\n\n    .dataframe tbody tr th {\n        vertical-align: top;\n    }\n\n    .dataframe thead th {\n        text-align: right;\n    }\n</style>\n<table border=\"1\" class=\"dataframe\">\n  <thead>\n    <tr style=\"text-align: right;\">\n      <th></th>\n      <th>Unnamed: 0</th>\n      <th>coord</th>\n      <th>weather</th>\n      <th>base</th>\n      <th>main</th>\n      <th>wind</th>\n      <th>clouds</th>\n      <th>dt</th>\n      <th>sys</th>\n      <th>timezone</th>\n      <th>id</th>\n      <th>name</th>\n      <th>cod</th>\n      <th>visibility</th>\n      <th>rain</th>\n      <th>message</th>\n      <th>snow</th>\n    </tr>\n  </thead>\n  <tbody>\n    <tr>\n      <td>0</td>\n      <td>0</td>\n      <td>{'lon': 20.04, 'lat': -34.53}</td>\n      <td>[{'id': 803, 'main': 'Clouds', 'description': ...</td>\n      <td>stations</td>\n      <td>{'temp': 55.08, 'feels_like': 54.45, 'temp_min...</td>\n      <td>{'speed': 1.12, 'deg': 240}</td>\n      <td>{'all': 80}</td>\n      <td>1.580172e+09</td>\n      <td>{'type': 1, 'id': 1966, 'country': 'ZA', 'sunr...</td>\n      <td>7200.0</td>\n      <td>1015776.0</td>\n      <td>Bredasdorp</td>\n      <td>200</td>\n      <td>NaN</td>\n      <td>NaN</td>\n      <td>NaN</td>\n      <td>NaN</td>\n    </tr>\n    <tr>\n      <td>1</td>\n      <td>1</td>\n      <td>{'lon': 152.92, 'lat': -31.43}</td>\n      <td>[{'id': 800, 'main': 'Clear', 'description': '...</td>\n      <td>stations</td>\n      <td>{'temp': 89.17, 'feels_like': 94.59, 'temp_min...</td>\n      <td>{'speed': 4.7, 'deg': 320}</td>\n      <td>{'all': 0}</td>\n      <td>1.580172e+09</td>\n      <td>{'type': 1, 'id': 9610, 'country': 'AU', 'sunr...</td>\n      <td>39600.0</td>\n      <td>2152659.0</td>\n      <td>Port Macquarie</td>\n      <td>200</td>\n      <td>10000.0</td>\n      <td>NaN</td>\n      <td>NaN</td>\n      <td>NaN</td>\n    </tr>\n    <tr>\n      <td>2</td>\n      <td>2</td>\n      <td>{'lon': 172.79, 'lat': 3.07}</td>\n      <td>[{'id': 500, 'main': 'Rain', 'description': 'l...</td>\n      <td>model</td>\n      <td>{'temp': 84.58, 'feels_like': 83.82, 'temp_min...</td>\n      <td>{'speed': 21.39, 'deg': 53}</td>\n      <td>{'all': 54}</td>\n      <td>1.580172e+09</td>\n      <td>{'country': 'KI', 'sunrise': 1580150523, 'suns...</td>\n      <td>43200.0</td>\n      <td>2110227.0</td>\n      <td>Butaritari</td>\n      <td>200</td>\n      <td>NaN</td>\n      <td>{'3h': 1.81}</td>\n      <td>NaN</td>\n      <td>NaN</td>\n    </tr>\n    <tr>\n      <td>3</td>\n      <td>3</td>\n      <td>{'lon': -71.14, 'lat': 21.46}</td>\n      <td>[{'id': 500, 'main': 'Rain', 'description': 'l...</td>\n      <td>model</td>\n      <td>{'temp': 76.46, 'feels_like': 79.5, 'temp_min'...</td>\n      <td>{'speed': 5.37, 'deg': 59}</td>\n      <td>{'all': 0}</td>\n      <td>1.580172e+09</td>\n      <td>{'country': 'TC', 'sunrise': 1580124217, 'suns...</td>\n      <td>-18000.0</td>\n      <td>3576994.0</td>\n      <td>Cockburn Town</td>\n      <td>200</td>\n      <td>NaN</td>\n      <td>{'3h': 1.13}</td>\n      <td>NaN</td>\n      <td>NaN</td>\n    </tr>\n    <tr>\n      <td>4</td>\n      <td>4</td>\n      <td>{'lon': -156.47, 'lat': 20.89}</td>\n      <td>[{'id': 801, 'main': 'Clouds', 'description': ...</td>\n      <td>stations</td>\n      <td>{'temp': 79.2, 'feels_like': 72.03, 'temp_min'...</td>\n      <td>{'speed': 14.99, 'deg': 80, 'gust': 23.04}</td>\n      <td>{'all': 20}</td>\n      <td>1.580172e+09</td>\n      <td>{'type': 1, 'id': 7879, 'country': 'US', 'sunr...</td>\n      <td>-36000.0</td>\n      <td>5847411.0</td>\n      <td>Kahului</td>\n      <td>200</td>\n      <td>16093.0</td>\n      <td>NaN</td>\n      <td>NaN</td>\n      <td>NaN</td>\n    </tr>\n  </tbody>\n</table>\n</div>",
      "text/plain": "   Unnamed: 0                           coord  \\\n0           0   {'lon': 20.04, 'lat': -34.53}   \n1           1  {'lon': 152.92, 'lat': -31.43}   \n2           2    {'lon': 172.79, 'lat': 3.07}   \n3           3   {'lon': -71.14, 'lat': 21.46}   \n4           4  {'lon': -156.47, 'lat': 20.89}   \n\n                                             weather      base  \\\n0  [{'id': 803, 'main': 'Clouds', 'description': ...  stations   \n1  [{'id': 800, 'main': 'Clear', 'description': '...  stations   \n2  [{'id': 500, 'main': 'Rain', 'description': 'l...     model   \n3  [{'id': 500, 'main': 'Rain', 'description': 'l...     model   \n4  [{'id': 801, 'main': 'Clouds', 'description': ...  stations   \n\n                                                main  \\\n0  {'temp': 55.08, 'feels_like': 54.45, 'temp_min...   \n1  {'temp': 89.17, 'feels_like': 94.59, 'temp_min...   \n2  {'temp': 84.58, 'feels_like': 83.82, 'temp_min...   \n3  {'temp': 76.46, 'feels_like': 79.5, 'temp_min'...   \n4  {'temp': 79.2, 'feels_like': 72.03, 'temp_min'...   \n\n                                         wind       clouds            dt  \\\n0                 {'speed': 1.12, 'deg': 240}  {'all': 80}  1.580172e+09   \n1                  {'speed': 4.7, 'deg': 320}   {'all': 0}  1.580172e+09   \n2                 {'speed': 21.39, 'deg': 53}  {'all': 54}  1.580172e+09   \n3                  {'speed': 5.37, 'deg': 59}   {'all': 0}  1.580172e+09   \n4  {'speed': 14.99, 'deg': 80, 'gust': 23.04}  {'all': 20}  1.580172e+09   \n\n                                                 sys  timezone         id  \\\n0  {'type': 1, 'id': 1966, 'country': 'ZA', 'sunr...    7200.0  1015776.0   \n1  {'type': 1, 'id': 9610, 'country': 'AU', 'sunr...   39600.0  2152659.0   \n2  {'country': 'KI', 'sunrise': 1580150523, 'suns...   43200.0  2110227.0   \n3  {'country': 'TC', 'sunrise': 1580124217, 'suns...  -18000.0  3576994.0   \n4  {'type': 1, 'id': 7879, 'country': 'US', 'sunr...  -36000.0  5847411.0   \n\n             name  cod  visibility          rain message snow  \n0      Bredasdorp  200         NaN           NaN     NaN  NaN  \n1  Port Macquarie  200     10000.0           NaN     NaN  NaN  \n2      Butaritari  200         NaN  {'3h': 1.81}     NaN  NaN  \n3   Cockburn Town  200         NaN  {'3h': 1.13}     NaN  NaN  \n4         Kahului  200     16093.0           NaN     NaN  NaN  "
     },
     "execution_count": 3,
     "metadata": {},
     "output_type": "execute_result"
    }
   ],
   "source": [
    "weatherData = pd.read_csv('C:/temp/weatherData.csv')\n",
    "weatherData.head()"
   ]
  },
  {
   "cell_type": "markdown",
   "metadata": {},
   "source": [
    "### Humidity Heatmap\n",
    "* Configure gmaps.\n",
    "* Use the Lat and Lng as locations and Humidity as the weight.\n",
    "* Add Heatmap layer to map."
   ]
  },
  {
   "cell_type": "code",
   "execution_count": null,
   "metadata": {},
   "outputs": [],
   "source": [
    "\n"
   ]
  },
  {
   "cell_type": "code",
   "execution_count": null,
   "metadata": {},
   "outputs": [],
   "source": [
    "\n"
   ]
  },
  {
   "cell_type": "markdown",
   "metadata": {},
   "source": [
    "### Create new DataFrame fitting weather criteria\n",
    "* Narrow down the cities to fit weather conditions.\n",
    "* Drop any rows will null values."
   ]
  },
  {
   "cell_type": "code",
   "execution_count": null,
   "metadata": {},
   "outputs": [],
   "source": []
  },
  {
   "cell_type": "markdown",
   "metadata": {},
   "source": [
    "### Hotel Map\n",
    "* Store into variable named `hotel_df`.\n",
    "* Add a \"Hotel Name\" column to the DataFrame.\n",
    "* Set parameters to search for hotels with 5000 meters.\n",
    "* Hit the Google Places API for each city's coordinates.\n",
    "* Store the first Hotel result into the DataFrame.\n",
    "* Plot markers on top of the heatmap."
   ]
  },
  {
   "cell_type": "code",
   "execution_count": null,
   "metadata": {},
   "outputs": [],
   "source": []
  },
  {
   "cell_type": "code",
   "execution_count": null,
   "metadata": {},
   "outputs": [],
   "source": []
  },
  {
   "cell_type": "code",
   "execution_count": null,
   "metadata": {},
   "outputs": [],
   "source": [
    "\n"
   ]
  },
  {
   "cell_type": "code",
   "execution_count": null,
   "metadata": {},
   "outputs": [],
   "source": [
    "# NOTE: Do not change any of the code in this cell\n",
    "\n",
    "# Using the template add the hotel marks to the heatmap\n",
    "info_box_template = \"\"\"\n",
    "<dl>\n",
    "<dt>Name</dt><dd>{Hotel Name}</dd>\n",
    "<dt>City</dt><dd>{City}</dd>\n",
    "<dt>Country</dt><dd>{Country}</dd>\n",
    "</dl>\n",
    "\"\"\"\n",
    "# Store the DataFrame Row\n",
    "# NOTE: be sure to update with your DataFrame name\n",
    "hotel_info = [info_box_template.format(**row) for index, row in narrowed_city_df.iterrows()]\n",
    "locations = hotel_df[[\"Lat\", \"Lng\"]]"
   ]
  },
  {
   "cell_type": "code",
   "execution_count": null,
   "metadata": {},
   "outputs": [],
   "source": [
    "# Add marker layer ontop of heat map\n",
    "\n",
    "\n",
    "# Display Map"
   ]
  }
 ],
 "metadata": {
  "kernelspec": {
   "display_name": "Python 3",
   "language": "python",
   "name": "python3"
  },
  "language_info": {
   "codemirror_mode": {
    "name": "ipython",
    "version": 3
   },
   "file_extension": ".py",
   "mimetype": "text/x-python",
   "name": "python",
   "nbconvert_exporter": "python",
   "pygments_lexer": "ipython3",
   "version": "3.7.4-final"
  },
  "latex_envs": {
   "LaTeX_envs_menu_present": true,
   "autoclose": false,
   "autocomplete": true,
   "bibliofile": "biblio.bib",
   "cite_by": "apalike",
   "current_citInitial": 1,
   "eqLabelWithNumbers": true,
   "eqNumInitial": 1,
   "hotkeys": {
    "equation": "Ctrl-E",
    "itemize": "Ctrl-I"
   },
   "labels_anchors": false,
   "latex_user_defs": false,
   "report_style_numbering": false,
   "user_envs_cfg": false
  }
 },
 "nbformat": 4,
 "nbformat_minor": 2
}